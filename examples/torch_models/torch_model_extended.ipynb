{
 "cells": [
  {
   "cell_type": "markdown",
   "id": "235c92cd-cc05-42b8-a516-1185eeac5f0c",
   "metadata": {},
   "source": [
    "# Creating a TorchModel\n",
    "Base models built in PyTorch are already supported by LUME-model. We demonstrate how to create and execute a `TorchModel` below."
   ]
  },
  {
   "cell_type": "code",
   "execution_count": 1,
   "id": "56725817-2b21-4bea-98b0-151dea959f77",
   "metadata": {},
   "outputs": [],
   "source": [
    "import torch\n",
    "import torch.nn as nn\n",
    "from botorch.models.transforms.input import AffineInputTransform\n",
    "\n",
    "from lume_model.models import TorchModel, TorchModule\n",
    "from lume_model.variables import ScalarVariable"
   ]
  },
  {
   "cell_type": "markdown",
   "id": "79c62b18-7dc1-44ca-b578-4dea5cc4a4b4",
   "metadata": {},
   "source": [
    "## Building a Model from Scratch\n",
    "Instantiation of a `TorchModel` requires specification of the base model (`torch.nn.Module`) and in-/output variables."
   ]
  },
  {
   "cell_type": "code",
   "execution_count": 2,
   "id": "f96d9863-269c-49d8-9671-cc73a783bcbc",
   "metadata": {},
   "outputs": [],
   "source": [
    "# exemplary model definition\n",
    "class BaseModel(nn.Module):\n",
    "    def __init__(self):\n",
    "        super(BaseModel, self).__init__()\n",
    "        self.linear = nn.Linear(2, 1)\n",
    "\n",
    "        # explicitly set weights and biases\n",
    "        self.linear.weight = nn.Parameter(torch.tensor([[0.05, -0.5]]))\n",
    "        self.linear.bias = nn.Parameter(torch.tensor([0.5]))\n",
    "\n",
    "    def forward(self, x):\n",
    "        return self.linear(x)\n",
    "\n",
    "\n",
    "base_model = BaseModel()\n",
    "\n",
    "# variable specification\n",
    "input_variables = [\n",
    "    ScalarVariable(name=\"input1\", default_value=0.1, value_range=[0.0, 1.0]),\n",
    "    ScalarVariable(name=\"input2\", default_value=0.2, value_range=[0.0, 1.0]),\n",
    "]\n",
    "output_variables = [\n",
    "    ScalarVariable(name=\"output\"),\n",
    "]\n",
    "\n",
    "# specify input/output transformers\n",
    "input_transform_0 = AffineInputTransform(\n",
    "    d=2, coefficient=torch.tensor([2.0, 2.0]), offset=torch.tensor([1.0, 1.0])\n",
    ")\n",
    "input_transform_1 = input_transform_0\n",
    "output_transform_0 = input_transform_0\n",
    "output_transform_1 = input_transform_0\n",
    "\n",
    "input_transformers = [input_transform_0, input_transform_1]\n",
    "output_transformers = [output_transform_0, output_transform_1]\n",
    "\n",
    "# creation of TorchModel\n",
    "example_model = TorchModel(\n",
    "    model=base_model,\n",
    "    input_variables=input_variables,\n",
    "    output_variables=output_variables,\n",
    "    fixed_model=True,\n",
    "    input_transformers=input_transformers,\n",
    "    output_transformers=output_transformers,\n",
    ")"
   ]
  },
  {
   "cell_type": "code",
   "execution_count": 3,
   "id": "1af1f09a-f7f1-4eb3-9c26-3a8eba56a4db",
   "metadata": {},
   "outputs": [
    {
     "data": {
      "text/plain": [
       "TorchModel(input_variables=[ScalarVariable(name='input1', default_value=0.1, is_constant=False, value_range=(0.0, 1.0), value_range_tolerance=1e-08, unit=None), ScalarVariable(name='input2', default_value=0.2, is_constant=False, value_range=(0.0, 1.0), value_range_tolerance=1e-08, unit=None)], output_variables=[ScalarVariable(name='output', default_value=None, is_constant=False, value_range=None, value_range_tolerance=1e-08, unit=None)], input_validation_config=None, output_validation_config=None, model=BaseModel(\n",
       "  (linear): Linear(in_features=2, out_features=1, bias=True)\n",
       "), input_transformers=[AffineInputTransform(), AffineInputTransform()], output_transformers=[AffineInputTransform(), AffineInputTransform()], output_format='tensor', device='cpu', fixed_model=True, precision='double')"
      ]
     },
     "execution_count": 3,
     "metadata": {},
     "output_type": "execute_result"
    }
   ],
   "source": [
    "example_model"
   ]
  },
  {
   "cell_type": "markdown",
   "id": "ebafa34b-e69e-47eb-9269-986f4baf6a02",
   "metadata": {},
   "source": [
    "### Run model with PyTorch"
   ]
  },
  {
   "cell_type": "code",
   "execution_count": 4,
   "id": "9f975b19-ef04-4283-b2a8-2d0f499950b0",
   "metadata": {},
   "outputs": [
    {
     "name": "stdout",
     "output_type": "stream",
     "text": [
      "tensor([[6.2820, 6.2820]], dtype=torch.float64)\n"
     ]
    }
   ],
   "source": [
    "# Define the complete model with input transformation\n",
    "class TransformedModel(nn.Module):\n",
    "    def __init__(self, base_model, input_transformers, output_transformers):\n",
    "        super(TransformedModel, self).__init__()\n",
    "        self.base_model = base_model\n",
    "        self.input_transformers = input_transformers\n",
    "        self.output_transformers = output_transformers\n",
    "\n",
    "        # self.input_transform.eval().requires_grad_(False)\n",
    "\n",
    "    def forward(self, input_tensor):\n",
    "        for t in self.input_transformers:\n",
    "            input_tensor = t.transform(input_tensor)\n",
    "        # Pass through the base model\n",
    "        output = self.base_model(input_tensor)\n",
    "        # Apply output transformation\n",
    "        for t in self.output_transformers:\n",
    "            output = t.untransform(output)\n",
    "        return output\n",
    "\n",
    "\n",
    "# Create the transformed model\n",
    "model = TransformedModel(base_model, input_transformers, output_transformers)\n",
    "\n",
    "# Create example input data\n",
    "input_data = torch.tensor([[0.04, 0.14]], dtype=torch.double)\n",
    "\n",
    "model.eval().requires_grad_(False)\n",
    "\n",
    "output_data = model(input_data)\n",
    "\n",
    "print(output_data)"
   ]
  },
  {
   "cell_type": "markdown",
   "id": "45605080-86d5-4530-805c-a8e0bfa5ab8a",
   "metadata": {},
   "source": [
    "# Model execution with LUME\n",
    "Calling the `evaluate` method allows for model execution on dictionary input. Additionally, instances of `TorchModel` can also be wrapped in a `TorchModule` which is a subclass of `torch.nn.Module`. This allows for seamless integration with `PyTorch` based packages like [BoTorch](https://botorch.org/) and [Xopt](https://christophermayes.github.io/Xopt/)."
   ]
  },
  {
   "cell_type": "markdown",
   "id": "9e6b5ab9-6eb4-4f2e-95e5-75329dab1832",
   "metadata": {},
   "source": [
    "### Run model with LUME TorchModel"
   ]
  },
  {
   "cell_type": "code",
   "execution_count": 5,
   "id": "1f959ec3-438d-4a7f-9639-8d0caf09578a",
   "metadata": {},
   "outputs": [
    {
     "name": "stdout",
     "output_type": "stream",
     "text": [
      "input:  {'input1': tensor([0.0400]), 'input2': tensor([0.1400])}\n"
     ]
    },
    {
     "data": {
      "text/plain": [
       "{'output': tensor([6.2820, 6.2820], dtype=torch.float64)}"
      ]
     },
     "execution_count": 5,
     "metadata": {},
     "output_type": "execute_result"
    }
   ],
   "source": [
    "# TorchModel requires a dict as input\n",
    "input_dict = {\"input1\": torch.tensor([0.04]), \"input2\": torch.tensor([0.14])}\n",
    "print(\"input: \", input_dict)\n",
    "example_model.evaluate(input_dict)"
   ]
  },
  {
   "cell_type": "markdown",
   "id": "ebbfecbc-8eda-4bd7-85b2-464c62677773",
   "metadata": {},
   "source": [
    "### Run model with LUME TorchModule "
   ]
  },
  {
   "cell_type": "code",
   "execution_count": 6,
   "id": "26ce23c7-fdf1-42d9-bfe4-73832149f14b",
   "metadata": {},
   "outputs": [
    {
     "data": {
      "text/plain": [
       "TorchModule(\n",
       "  (base_model): BaseModel(\n",
       "    (linear): Linear(in_features=2, out_features=1, bias=True)\n",
       "  )\n",
       "  (input_transformers_0): AffineInputTransform()\n",
       "  (input_transformers_1): AffineInputTransform()\n",
       "  (output_transformers_0): AffineInputTransform()\n",
       "  (output_transformers_1): AffineInputTransform()\n",
       ")"
      ]
     },
     "execution_count": 6,
     "metadata": {},
     "output_type": "execute_result"
    }
   ],
   "source": [
    "example_module = TorchModule(model=example_model)\n",
    "example_module"
   ]
  },
  {
   "cell_type": "code",
   "execution_count": 7,
   "id": "39e18d1c-0836-43fa-933c-17a2f0aaaa30",
   "metadata": {},
   "outputs": [
    {
     "data": {
      "text/plain": [
       "tensor([6.2820, 6.2820], dtype=torch.float64)"
      ]
     },
     "execution_count": 7,
     "metadata": {},
     "output_type": "execute_result"
    }
   ],
   "source": [
    "example_module(input_data)"
   ]
  },
  {
   "cell_type": "markdown",
   "id": "1347728b-f1a0-4473-832f-9224a48ee051",
   "metadata": {},
   "source": [
    "### Compare weights and biases"
   ]
  },
  {
   "cell_type": "code",
   "execution_count": 8,
   "id": "95a5c89e-41b5-44f3-b6e5-6085b04d9906",
   "metadata": {},
   "outputs": [
    {
     "data": {
      "text/plain": [
       "OrderedDict([('base_model.linear.weight',\n",
       "              tensor([[ 0.0500, -0.5000]], dtype=torch.float64)),\n",
       "             ('base_model.linear.bias',\n",
       "              tensor([0.5000], dtype=torch.float64))])"
      ]
     },
     "execution_count": 8,
     "metadata": {},
     "output_type": "execute_result"
    }
   ],
   "source": [
    "model.state_dict()"
   ]
  },
  {
   "cell_type": "code",
   "execution_count": 9,
   "id": "8fe440fd-a402-4444-8b0d-5839e67477e7",
   "metadata": {},
   "outputs": [
    {
     "data": {
      "text/plain": [
       "OrderedDict([('base_model.linear.weight',\n",
       "              tensor([[ 0.0500, -0.5000]], dtype=torch.float64)),\n",
       "             ('base_model.linear.bias', tensor([0.5000], dtype=torch.float64)),\n",
       "             ('input_transformers_0._coefficient',\n",
       "              tensor([2., 2.], dtype=torch.float64)),\n",
       "             ('input_transformers_0._offset',\n",
       "              tensor([1., 1.], dtype=torch.float64)),\n",
       "             ('input_transformers_1._coefficient',\n",
       "              tensor([2., 2.], dtype=torch.float64)),\n",
       "             ('input_transformers_1._offset',\n",
       "              tensor([1., 1.], dtype=torch.float64)),\n",
       "             ('output_transformers_0._coefficient',\n",
       "              tensor([2., 2.], dtype=torch.float64)),\n",
       "             ('output_transformers_0._offset',\n",
       "              tensor([1., 1.], dtype=torch.float64)),\n",
       "             ('output_transformers_1._coefficient',\n",
       "              tensor([2., 2.], dtype=torch.float64)),\n",
       "             ('output_transformers_1._offset',\n",
       "              tensor([1., 1.], dtype=torch.float64))])"
      ]
     },
     "execution_count": 9,
     "metadata": {},
     "output_type": "execute_result"
    }
   ],
   "source": [
    "example_module.state_dict()"
   ]
  },
  {
   "cell_type": "markdown",
   "id": "b0e8db76-6a89-4b18-8f3e-3d7b60782957",
   "metadata": {},
   "source": [
    "# Saving and loading"
   ]
  },
  {
   "cell_type": "markdown",
   "id": "686861ca-54e4-4ef6-8f45-d99c0ffc40a9",
   "metadata": {},
   "source": [
    "## Save LUME models to YAML\n",
    "An already created model can be saved to a YAML file by calling the `dump` method. "
   ]
  },
  {
   "cell_type": "code",
   "execution_count": 10,
   "id": "f1a83303-2e9e-4b00-9321-7ac40ede6b2b",
   "metadata": {},
   "outputs": [],
   "source": [
    "example_model.dump(\"example_model_extended.yml\")"
   ]
  },
  {
   "cell_type": "code",
   "execution_count": 11,
   "id": "ef0c9918-9bf9-4f3a-9097-a7e9d2f1459a",
   "metadata": {},
   "outputs": [],
   "source": [
    "example_module.dump(\"example_module_extended.yml\")"
   ]
  },
  {
   "cell_type": "markdown",
   "id": "709ca575-bac8-4c4c-906f-96ac63c29e5c",
   "metadata": {},
   "source": [
    "## Loading a Model from File"
   ]
  },
  {
   "cell_type": "markdown",
   "id": "b0071a42-91ac-46a4-bfec-efa30e93913a",
   "metadata": {},
   "source": [
    "The model can be loaded by simply passing the file to the constructor."
   ]
  },
  {
   "cell_type": "code",
   "execution_count": 12,
   "id": "037b6b26-56a1-42c3-85bf-0d3370a2c572",
   "metadata": {},
   "outputs": [
    {
     "name": "stdout",
     "output_type": "stream",
     "text": [
      "Loaded PyTorch model from file: BaseModel(\n",
      "  (linear): Linear(in_features=2, out_features=1, bias=True)\n",
      ")\n",
      "model_class: TorchModel\n",
      "input_variables:\n",
      "  input1:\n",
      "    variable_class: ScalarVariable\n",
      "    default_value: 0.1\n",
      "    is_constant: false\n",
      "    value_range: [0.0, 1.0]\n",
      "    value_range_tolerance: 1.0e-08\n",
      "  input2:\n",
      "    variable_class: ScalarVariable\n",
      "    default_value: 0.2\n",
      "    is_constant: false\n",
      "    value_range: [0.0, 1.0]\n",
      "    value_range_tolerance: 1.0e-08\n",
      "output_variables:\n",
      "  output:\n",
      "    variable_class: ScalarVariable\n",
      "    is_constant: false\n",
      "    value_range: [-.inf, .inf]\n",
      "    value_range_tolerance: 1.0e-08\n",
      "input_validation_config: null\n",
      "output_validation_config: null\n",
      "model: model.pt\n",
      "input_transformers: [input_transformers_0.pt, input_transformers_1.pt]\n",
      "output_transformers: [output_transformers_0.pt, output_transformers_1.pt]\n",
      "output_format: tensor\n",
      "device: cpu\n",
      "fixed_model: true\n",
      "precision: double\n",
      "\n"
     ]
    }
   ],
   "source": [
    "example_model = TorchModel(\"example_model_extended.yml\")\n",
    "print(example_model.yaml())"
   ]
  },
  {
   "cell_type": "code",
   "execution_count": 13,
   "id": "9051ce40-68dc-46b8-b4cf-49f96dffafeb",
   "metadata": {},
   "outputs": [
    {
     "name": "stdout",
     "output_type": "stream",
     "text": [
      "Loaded PyTorch model from file: BaseModel(\n",
      "  (linear): Linear(in_features=2, out_features=1, bias=True)\n",
      ")\n",
      "model_class: TorchModule\n",
      "input_order: [input1, input2]\n",
      "output_order: [output]\n",
      "model:\n",
      "  model_class: TorchModel\n",
      "  input_variables:\n",
      "    input1:\n",
      "      variable_class: ScalarVariable\n",
      "      default_value: 0.1\n",
      "      is_constant: false\n",
      "      value_range: [0.0, 1.0]\n",
      "      value_range_tolerance: 1.0e-08\n",
      "    input2:\n",
      "      variable_class: ScalarVariable\n",
      "      default_value: 0.2\n",
      "      is_constant: false\n",
      "      value_range: [0.0, 1.0]\n",
      "      value_range_tolerance: 1.0e-08\n",
      "  output_variables:\n",
      "    output:\n",
      "      variable_class: ScalarVariable\n",
      "      is_constant: false\n",
      "      value_range: [-.inf, .inf]\n",
      "      value_range_tolerance: 1.0e-08\n",
      "  input_validation_config: null\n",
      "  output_validation_config: null\n",
      "  model: model.pt\n",
      "  input_transformers: [input_transformers_0.pt, input_transformers_1.pt]\n",
      "  output_transformers: [output_transformers_0.pt, output_transformers_1.pt]\n",
      "  output_format: tensor\n",
      "  device: cpu\n",
      "  fixed_model: true\n",
      "  precision: double\n",
      "\n"
     ]
    }
   ],
   "source": [
    "example_module = TorchModule(\"example_module_extended.yml\")\n",
    "print(example_module.yaml())"
   ]
  },
  {
   "cell_type": "markdown",
   "id": "7e23f881-7d41-46a2-ab68-088b5f6751c1",
   "metadata": {},
   "source": [
    "# Changing precision\n",
    "\n",
    "The TorchModel class has a `precision` attribute that can be set to single or double."
   ]
  },
  {
   "cell_type": "code",
   "execution_count": 15,
   "id": "17032ff0-7a0a-42a8-a9e7-bb7902e9a4de",
   "metadata": {},
   "outputs": [
    {
     "data": {
      "text/plain": [
       "'double'"
      ]
     },
     "execution_count": 15,
     "metadata": {},
     "output_type": "execute_result"
    }
   ],
   "source": [
    "example_model.precision"
   ]
  },
  {
   "cell_type": "code",
   "execution_count": 16,
   "id": "f2fa804a-051c-4a3b-a18e-37197a831f57",
   "metadata": {},
   "outputs": [
    {
     "name": "stdout",
     "output_type": "stream",
     "text": [
      "{'output': tensor([6.2820, 6.2820], dtype=torch.float64)}\n",
      "torch.float64\n",
      "{'output': tensor([6.2820, 6.2820])}\n",
      "torch.float32\n"
     ]
    }
   ],
   "source": [
    "input_dict = {\"input1\": torch.tensor([0.04]), \"input2\": torch.tensor([0.14])}\n",
    "output_dict = example_model.evaluate(input_dict)\n",
    "\n",
    "print(output_dict)\n",
    "print(output_dict[\"output\"].dtype)\n",
    "\n",
    "example_model.precision = \"single\"\n",
    "output_dict = example_model.evaluate(input_dict)\n",
    "\n",
    "print(output_dict)\n",
    "print(output_dict[\"output\"].dtype)"
   ]
  },
  {
   "cell_type": "markdown",
   "id": "ff158d45-435d-49b0-999c-d2ff5f42bf01",
   "metadata": {},
   "source": [
    "# Save/load variables to YAML"
   ]
  },
  {
   "cell_type": "code",
   "execution_count": 17,
   "id": "722d7b5c-4ad7-427d-a473-86cae6170bea",
   "metadata": {},
   "outputs": [
    {
     "data": {
      "text/plain": [
       "[ScalarVariable(name='input1', default_value=0.1, is_constant=False, value_range=(0.0, 1.0), value_range_tolerance=1e-08, unit=None),\n",
       " ScalarVariable(name='input2', default_value=0.2, is_constant=False, value_range=(0.0, 1.0), value_range_tolerance=1e-08, unit=None)]"
      ]
     },
     "execution_count": 17,
     "metadata": {},
     "output_type": "execute_result"
    }
   ],
   "source": [
    "example_model.input_variables"
   ]
  },
  {
   "cell_type": "code",
   "execution_count": 18,
   "id": "4cef4328-cd1b-41bc-bd92-e3157ca6084f",
   "metadata": {},
   "outputs": [
    {
     "data": {
      "text/plain": [
       "[ScalarVariable(name='output', default_value=None, is_constant=False, value_range=(-inf, inf), value_range_tolerance=1e-08, unit=None)]"
      ]
     },
     "execution_count": 18,
     "metadata": {},
     "output_type": "execute_result"
    }
   ],
   "source": [
    "example_model.output_variables"
   ]
  },
  {
   "cell_type": "code",
   "execution_count": 19,
   "id": "73af0569-a614-47ee-be5f-910182307f0e",
   "metadata": {},
   "outputs": [],
   "source": [
    "variables = {\n",
    "    \"input_variables\": example_model.input_variables,\n",
    "    \"output_variables\": example_model.output_variables,\n",
    "}"
   ]
  },
  {
   "cell_type": "code",
   "execution_count": 20,
   "id": "873d2095-4c41-4389-90de-d8ee6bdcc417",
   "metadata": {},
   "outputs": [
    {
     "name": "stdout",
     "output_type": "stream",
     "text": [
      "input_variables:\n",
      "  input1:\n",
      "    variable_class: ScalarVariable\n",
      "    default_value: 0.1\n",
      "    is_constant: false\n",
      "    value_range: [0.0, 1.0]\n",
      "    value_range_tolerance: 1.0e-08\n",
      "  input2:\n",
      "    variable_class: ScalarVariable\n",
      "    default_value: 0.2\n",
      "    is_constant: false\n",
      "    value_range: [0.0, 1.0]\n",
      "    value_range_tolerance: 1.0e-08\n",
      "output_variables:\n",
      "  output:\n",
      "    variable_class: ScalarVariable\n",
      "    is_constant: false\n",
      "    value_range: [-.inf, .inf]\n",
      "    value_range_tolerance: 1.0e-08\n",
      "\n"
     ]
    }
   ],
   "source": [
    "from lume_model.utils import variables_as_yaml\n",
    "\n",
    "print(variables_as_yaml(**variables))"
   ]
  },
  {
   "cell_type": "markdown",
   "id": "f61ccdac-c066-4e22-ab92-c001930affd4",
   "metadata": {},
   "source": [
    "# Input/output validation demo"
   ]
  },
  {
   "cell_type": "markdown",
   "id": "5767948c-c31f-479a-a2bf-c94316319b73",
   "metadata": {},
   "source": [
    "## Add more input data"
   ]
  },
  {
   "cell_type": "code",
   "execution_count": 21,
   "id": "307bef74-6d02-44a3-9579-bdcda5b3a011",
   "metadata": {},
   "outputs": [
    {
     "data": {
      "text/plain": [
       "tensor([[6.1250, 6.1250],\n",
       "        [6.1050, 6.1050]], dtype=torch.float64)"
      ]
     },
     "execution_count": 21,
     "metadata": {},
     "output_type": "execute_result"
    }
   ],
   "source": [
    "input_data = torch.tensor([[0.5, 0.5], [0.1, 0.5]], dtype=torch.double)\n",
    "# PyTorch model\n",
    "model(input_data)"
   ]
  },
  {
   "cell_type": "code",
   "execution_count": 22,
   "id": "22b64d76-4c14-47ab-8aa6-5881f56dad54",
   "metadata": {},
   "outputs": [
    {
     "data": {
      "text/plain": [
       "tensor([[6.1250, 6.1250],\n",
       "        [6.1050, 6.1050]], dtype=torch.float64)"
      ]
     },
     "execution_count": 22,
     "metadata": {},
     "output_type": "execute_result"
    }
   ],
   "source": [
    "# TorchModule\n",
    "example_module(input_data)"
   ]
  },
  {
   "cell_type": "code",
   "execution_count": 23,
   "id": "f8cc9ddf-8851-431c-b3a2-1a70bd0a447b",
   "metadata": {},
   "outputs": [
    {
     "data": {
      "text/plain": [
       "{'output': tensor([[6.1250, 6.1250],\n",
       "         [6.1050, 6.1050]])}"
      ]
     },
     "execution_count": 23,
     "metadata": {},
     "output_type": "execute_result"
    }
   ],
   "source": [
    "# TorchModel\n",
    "input_dict = {\"input1\": torch.tensor([0.5, 0.1]), \"input2\": torch.tensor([0.5, 0.5])}\n",
    "example_model.evaluate(input_dict)"
   ]
  },
  {
   "cell_type": "markdown",
   "id": "0b3d378e-e90e-4e6b-b727-9086467c3e5b",
   "metadata": {},
   "source": [
    "## Range validation\n",
    "\n",
    "The range for each variable can be optionally defined when instantiating the ScalarVariable class (or in the YAML). If it is not defined, it will be set as (-inf, inf).\n",
    "\n",
    "The LUMEBaseModel class has `input_validation_config` and `output_validation_config` attributes that the user can set to specify whether to check if the value is within the variable's and with what strictness. For example: \n",
    "```\n",
    "input_validation_config = {\n",
    "    \"input1\" : \"error\",\n",
    "    \"input2: \"none\"\n",
    "}\n",
    "```\n",
    "\n",
    "If a variable's config is set to `\"warn\"` or `\"error\"`, the value will be checked at each iteration to make sure it's within the provided range. If it's set to `\"error\"`, an error will be raised if it's out of range, and if it's set to `\"warn\"`, a warning is printed to the console. A value of `\"none\"` will skip range checking for that variable.\n",
    "\n",
    "Note that while output variables do not typically require a range, if one is provided along with a `output_validation_config` that defines strict range checking, an error will \n",
    "be raised when the output is outside of the provided range."
   ]
  },
  {
   "cell_type": "code",
   "execution_count": 24,
   "id": "b49c5bbb-e6c9-4721-8444-193cbd00fd9f",
   "metadata": {},
   "outputs": [
    {
     "data": {
      "text/plain": [
       "[ScalarVariable(name='input1', default_value=0.1, is_constant=False, value_range=(0.0, 1.0), value_range_tolerance=1e-08, unit=None),\n",
       " ScalarVariable(name='input2', default_value=0.2, is_constant=False, value_range=(0.0, 1.0), value_range_tolerance=1e-08, unit=None)]"
      ]
     },
     "execution_count": 24,
     "metadata": {},
     "output_type": "execute_result"
    }
   ],
   "source": [
    "example_model.input_variables"
   ]
  },
  {
   "cell_type": "code",
   "execution_count": 25,
   "id": "91d6fc04-e9e7-4dc0-842d-421b9d6c49dc",
   "metadata": {},
   "outputs": [
    {
     "data": {
      "text/plain": [
       "{'input1': 'warn', 'input2': 'warn'}"
      ]
     },
     "execution_count": 25,
     "metadata": {},
     "output_type": "execute_result"
    }
   ],
   "source": [
    "# using default config since none was defined at instantiation\n",
    "example_model.default_input_validation_config"
   ]
  },
  {
   "cell_type": "code",
   "execution_count": 26,
   "id": "bb957be2-f4a8-46ba-b2ab-3bded7e12a0d",
   "metadata": {},
   "outputs": [
    {
     "name": "stdout",
     "output_type": "stream",
     "text": [
      "Warning: Value (1.2000000476837158) of 'input1' is out of valid range ([0.0,1.0]). Executing the model outside of the training data range may result in unpredictable and invalid predictions.\n"
     ]
    },
    {
     "data": {
      "text/plain": [
       "{'output': tensor([[6.1600, 6.1600],\n",
       "         [6.1050, 6.1050]])}"
      ]
     },
     "execution_count": 26,
     "metadata": {},
     "output_type": "execute_result"
    }
   ],
   "source": [
    "# lax range checking\n",
    "input_dict = {\"input1\": torch.tensor([1.2, 0.1]), \"input2\": torch.tensor([0.5, 0.5])}\n",
    "example_model.evaluate(input_dict)"
   ]
  },
  {
   "cell_type": "code",
   "execution_count": 27,
   "id": "27058d35-ff00-4887-9b4d-98a65afa0460",
   "metadata": {},
   "outputs": [
    {
     "ename": "ValueError",
     "evalue": "Value (1.2000000476837158) of 'input1' is out of valid range ([0.0,1.0]).",
     "output_type": "error",
     "traceback": [
      "\u001b[0;31m---------------------------------------------------------------------------\u001b[0m",
      "\u001b[0;31mValueError\u001b[0m                                Traceback (most recent call last)",
      "Cell \u001b[0;32mIn[27], line 6\u001b[0m\n\u001b[1;32m      4\u001b[0m \u001b[38;5;66;03m# strict range checking, raises ValueError\u001b[39;00m\n\u001b[1;32m      5\u001b[0m input_dict \u001b[38;5;241m=\u001b[39m {\u001b[38;5;124m\"\u001b[39m\u001b[38;5;124minput1\u001b[39m\u001b[38;5;124m\"\u001b[39m: torch\u001b[38;5;241m.\u001b[39mtensor([\u001b[38;5;241m1.2\u001b[39m, \u001b[38;5;241m0.1\u001b[39m]), \u001b[38;5;124m\"\u001b[39m\u001b[38;5;124minput2\u001b[39m\u001b[38;5;124m\"\u001b[39m: torch\u001b[38;5;241m.\u001b[39mtensor([\u001b[38;5;241m0.5\u001b[39m, \u001b[38;5;241m0.5\u001b[39m])}\n\u001b[0;32m----> 6\u001b[0m \u001b[43mexample_model\u001b[49m\u001b[38;5;241;43m.\u001b[39;49m\u001b[43mevaluate\u001b[49m\u001b[43m(\u001b[49m\u001b[43minput_dict\u001b[49m\u001b[43m)\u001b[49m\n",
      "File \u001b[0;32m~/Documents/SLAC/AD/ad-lume/lume-model/lume_model/base.py:339\u001b[0m, in \u001b[0;36mLUMEBaseModel.evaluate\u001b[0;34m(self, input_dict)\u001b[0m\n\u001b[1;32m    337\u001b[0m \u001b[38;5;28;01mdef\u001b[39;00m\u001b[38;5;250m \u001b[39m\u001b[38;5;21mevaluate\u001b[39m(\u001b[38;5;28mself\u001b[39m, input_dict: \u001b[38;5;28mdict\u001b[39m[\u001b[38;5;28mstr\u001b[39m, Any]) \u001b[38;5;241m-\u001b[39m\u001b[38;5;241m>\u001b[39m \u001b[38;5;28mdict\u001b[39m[\u001b[38;5;28mstr\u001b[39m, Any]:\n\u001b[1;32m    338\u001b[0m \u001b[38;5;250m    \u001b[39m\u001b[38;5;124;03m\"\"\"Main evaluation function, child classes must implement the _evaluate method.\"\"\"\u001b[39;00m\n\u001b[0;32m--> 339\u001b[0m     validated_input_dict \u001b[38;5;241m=\u001b[39m \u001b[38;5;28;43mself\u001b[39;49m\u001b[38;5;241;43m.\u001b[39;49m\u001b[43minput_validation\u001b[49m\u001b[43m(\u001b[49m\u001b[43minput_dict\u001b[49m\u001b[43m)\u001b[49m\n\u001b[1;32m    340\u001b[0m     output_dict \u001b[38;5;241m=\u001b[39m \u001b[38;5;28mself\u001b[39m\u001b[38;5;241m.\u001b[39m_evaluate(validated_input_dict)\n\u001b[1;32m    341\u001b[0m     \u001b[38;5;28mself\u001b[39m\u001b[38;5;241m.\u001b[39moutput_validation(output_dict)\n",
      "File \u001b[0;32m~/Documents/SLAC/AD/ad-lume/lume-model/lume_model/models/torch_model.py:192\u001b[0m, in \u001b[0;36mTorchModel.input_validation\u001b[0;34m(self, input_dict)\u001b[0m\n\u001b[1;32m    190\u001b[0m     ele \u001b[38;5;241m=\u001b[39m InputDictModel(input_dict\u001b[38;5;241m=\u001b[39mele)\u001b[38;5;241m.\u001b[39minput_dict\n\u001b[1;32m    191\u001b[0m     \u001b[38;5;66;03m# validate each value based on its var class and config\u001b[39;00m\n\u001b[0;32m--> 192\u001b[0m     \u001b[38;5;28;43msuper\u001b[39;49m\u001b[43m(\u001b[49m\u001b[43m)\u001b[49m\u001b[38;5;241;43m.\u001b[39;49m\u001b[43minput_validation\u001b[49m\u001b[43m(\u001b[49m\u001b[43mele\u001b[49m\u001b[43m)\u001b[49m\n\u001b[1;32m    194\u001b[0m \u001b[38;5;66;03m# return the validated input dict for consistency w/ casting ints to floats\u001b[39;00m\n\u001b[1;32m    195\u001b[0m \u001b[38;5;28;01mif\u001b[39;00m \u001b[38;5;28many\u001b[39m([\u001b[38;5;28misinstance\u001b[39m(value, torch\u001b[38;5;241m.\u001b[39mTensor) \u001b[38;5;28;01mfor\u001b[39;00m value \u001b[38;5;129;01min\u001b[39;00m validated_input\u001b[38;5;241m.\u001b[39mvalues()]):\n",
      "File \u001b[0;32m~/Documents/SLAC/AD/ad-lume/lume-model/lume_model/base.py:356\u001b[0m, in \u001b[0;36mLUMEBaseModel.input_validation\u001b[0;34m(self, input_dict)\u001b[0m\n\u001b[1;32m    350\u001b[0m     _config \u001b[38;5;241m=\u001b[39m (\n\u001b[1;32m    351\u001b[0m         \u001b[38;5;28;01mNone\u001b[39;00m\n\u001b[1;32m    352\u001b[0m         \u001b[38;5;28;01mif\u001b[39;00m \u001b[38;5;28mself\u001b[39m\u001b[38;5;241m.\u001b[39minput_validation_config \u001b[38;5;129;01mis\u001b[39;00m \u001b[38;5;28;01mNone\u001b[39;00m\n\u001b[1;32m    353\u001b[0m         \u001b[38;5;28;01melse\u001b[39;00m \u001b[38;5;28mself\u001b[39m\u001b[38;5;241m.\u001b[39minput_validation_config\u001b[38;5;241m.\u001b[39mget(name)\n\u001b[1;32m    354\u001b[0m     )\n\u001b[1;32m    355\u001b[0m     var \u001b[38;5;241m=\u001b[39m \u001b[38;5;28mself\u001b[39m\u001b[38;5;241m.\u001b[39minput_variables[\u001b[38;5;28mself\u001b[39m\u001b[38;5;241m.\u001b[39minput_names\u001b[38;5;241m.\u001b[39mindex(name)]\n\u001b[0;32m--> 356\u001b[0m     \u001b[43mvar\u001b[49m\u001b[38;5;241;43m.\u001b[39;49m\u001b[43mvalidate_value\u001b[49m\u001b[43m(\u001b[49m\u001b[43mvalue\u001b[49m\u001b[43m,\u001b[49m\u001b[43m \u001b[49m\u001b[43mconfig\u001b[49m\u001b[38;5;241;43m=\u001b[39;49m\u001b[43m_config\u001b[49m\u001b[43m)\u001b[49m\n\u001b[1;32m    357\u001b[0m \u001b[38;5;28;01mreturn\u001b[39;00m input_dict\n",
      "File \u001b[0;32m~/Documents/SLAC/AD/ad-lume/lume-model/lume_model/variables.py:130\u001b[0m, in \u001b[0;36mScalarVariable.validate_value\u001b[0;34m(self, value, config)\u001b[0m\n\u001b[1;32m    128\u001b[0m \u001b[38;5;66;03m# optional validation\u001b[39;00m\n\u001b[1;32m    129\u001b[0m \u001b[38;5;28;01mif\u001b[39;00m config \u001b[38;5;241m!=\u001b[39m \u001b[38;5;124m\"\u001b[39m\u001b[38;5;124mnone\u001b[39m\u001b[38;5;124m\"\u001b[39m:\n\u001b[0;32m--> 130\u001b[0m     \u001b[38;5;28;43mself\u001b[39;49m\u001b[38;5;241;43m.\u001b[39;49m\u001b[43m_validate_value_is_within_range\u001b[49m\u001b[43m(\u001b[49m\u001b[43mvalue\u001b[49m\u001b[43m,\u001b[49m\u001b[43m \u001b[49m\u001b[43mconfig\u001b[49m\u001b[38;5;241;43m=\u001b[39;49m\u001b[43m_config\u001b[49m\u001b[43m)\u001b[49m\n",
      "File \u001b[0;32m~/Documents/SLAC/AD/ad-lume/lume-model/lume_model/variables.py:162\u001b[0m, in \u001b[0;36mScalarVariable._validate_value_is_within_range\u001b[0;34m(self, value, config)\u001b[0m\n\u001b[1;32m    160\u001b[0m     \u001b[38;5;28mprint\u001b[39m(\u001b[38;5;124m\"\u001b[39m\u001b[38;5;124mWarning: \u001b[39m\u001b[38;5;124m\"\u001b[39m \u001b[38;5;241m+\u001b[39m range_warning_message)\n\u001b[1;32m    161\u001b[0m \u001b[38;5;28;01melse\u001b[39;00m:\n\u001b[0;32m--> 162\u001b[0m     \u001b[38;5;28;01mraise\u001b[39;00m \u001b[38;5;167;01mValueError\u001b[39;00m(error_message)\n",
      "\u001b[0;31mValueError\u001b[0m: Value (1.2000000476837158) of 'input1' is out of valid range ([0.0,1.0])."
     ]
    }
   ],
   "source": [
    "# change input1's config to error\n",
    "example_model.input_validation_config = {\"input1\": \"error\", \"input2\": \"warn\"}\n",
    "\n",
    "# strict range checking, raises ValueError\n",
    "input_dict = {\"input1\": torch.tensor([1.2, 0.1]), \"input2\": torch.tensor([0.5, 0.5])}\n",
    "example_model.evaluate(input_dict)"
   ]
  },
  {
   "cell_type": "code",
   "execution_count": 28,
   "id": "7656c461-f66c-4d72-a8f4-8c2585dd7c0d",
   "metadata": {},
   "outputs": [
    {
     "data": {
      "text/plain": [
       "{'output': tensor([[6.1600, 6.1600],\n",
       "         [6.1050, 6.1050]])}"
      ]
     },
     "execution_count": 28,
     "metadata": {},
     "output_type": "execute_result"
    }
   ],
   "source": [
    "# change input1's config value to none\n",
    "example_model.input_validation_config = {\"input1\": \"none\", \"input2\": \"warn\"}\n",
    "\n",
    "# nothing is printed/raised\n",
    "input_dict = {\"input1\": torch.tensor([1.2, 0.1]), \"input2\": torch.tensor([0.5, 0.5])}\n",
    "example_model.evaluate(input_dict)"
   ]
  },
  {
   "cell_type": "markdown",
   "id": "6e941ff9-0990-4532-b0e8-93d57105aef9",
   "metadata": {},
   "source": [
    "## Default value validation"
   ]
  },
  {
   "cell_type": "markdown",
   "id": "86589442-6de4-4612-ad19-532126409ecb",
   "metadata": {},
   "source": [
    "The ScalarVariable class has an optional `default_value` attribute. The LUMEBaseModel however does require that input variables have a default value, and will raise an error if any are instantiated without one. When evaluating a TorchModel isntance, an input dict can have missing inputs, and the TorchModel will fill in the missing inputs with the provided default value."
   ]
  },
  {
   "cell_type": "code",
   "execution_count": 29,
   "id": "6b30e460-1913-489c-b743-da06cda55ca3",
   "metadata": {},
   "outputs": [
    {
     "data": {
      "text/plain": [
       "[ScalarVariable(name='input1', default_value=0.1, is_constant=False, value_range=(0.0, 1.0), value_range_tolerance=1e-08, unit=None),\n",
       " ScalarVariable(name='input2', default_value=0.2, is_constant=False, value_range=(0.0, 1.0), value_range_tolerance=1e-08, unit=None)]"
      ]
     },
     "execution_count": 29,
     "metadata": {},
     "output_type": "execute_result"
    }
   ],
   "source": [
    "example_model.input_variables"
   ]
  },
  {
   "cell_type": "markdown",
   "id": "0165dcda-e762-4006-bb95-485fb6735a2a",
   "metadata": {},
   "source": [
    "Run w/o specifying input1 value"
   ]
  },
  {
   "cell_type": "code",
   "execution_count": 30,
   "id": "62b95199-1339-4ebb-bb1a-36161c999a7b",
   "metadata": {},
   "outputs": [
    {
     "data": {
      "text/plain": [
       "{'output': tensor([6.1050, 6.1050])}"
      ]
     },
     "execution_count": 30,
     "metadata": {},
     "output_type": "execute_result"
    }
   ],
   "source": [
    "input_dict = {\"input2\": torch.tensor([0.5])}\n",
    "example_model.evaluate(input_dict)"
   ]
  },
  {
   "cell_type": "markdown",
   "id": "f4288dd6-2c6c-4dcb-962d-61c9799d8236",
   "metadata": {},
   "source": [
    "Set default value out of range"
   ]
  },
  {
   "cell_type": "code",
   "execution_count": 31,
   "id": "169430ae-4e9c-4a26-9cd5-9a6efec5131f",
   "metadata": {},
   "outputs": [],
   "source": [
    "example_model.input_variables[0].default_value = 1.2"
   ]
  },
  {
   "cell_type": "code",
   "execution_count": 32,
   "id": "a1d71a4c-51c1-4248-bfc5-e2bbf9eb8ee8",
   "metadata": {},
   "outputs": [
    {
     "ename": "ValueError",
     "evalue": "Value (1.2000000476837158) of 'input1' is out of valid range ([0.0,1.0]).",
     "output_type": "error",
     "traceback": [
      "\u001b[0;31m---------------------------------------------------------------------------\u001b[0m",
      "\u001b[0;31mValueError\u001b[0m                                Traceback (most recent call last)",
      "Cell \u001b[0;32mIn[32], line 5\u001b[0m\n\u001b[1;32m      2\u001b[0m example_model\u001b[38;5;241m.\u001b[39minput_validation_config \u001b[38;5;241m=\u001b[39m {\u001b[38;5;124m\"\u001b[39m\u001b[38;5;124minput1\u001b[39m\u001b[38;5;124m\"\u001b[39m: \u001b[38;5;124m\"\u001b[39m\u001b[38;5;124merror\u001b[39m\u001b[38;5;124m\"\u001b[39m, \u001b[38;5;124m\"\u001b[39m\u001b[38;5;124minput2\u001b[39m\u001b[38;5;124m\"\u001b[39m: \u001b[38;5;124m\"\u001b[39m\u001b[38;5;124mwarn\u001b[39m\u001b[38;5;124m\"\u001b[39m}\n\u001b[1;32m      4\u001b[0m input_dict \u001b[38;5;241m=\u001b[39m {\u001b[38;5;124m\"\u001b[39m\u001b[38;5;124minput2\u001b[39m\u001b[38;5;124m\"\u001b[39m: torch\u001b[38;5;241m.\u001b[39mtensor([\u001b[38;5;241m0.5\u001b[39m])}\n\u001b[0;32m----> 5\u001b[0m \u001b[43mexample_model\u001b[49m\u001b[38;5;241;43m.\u001b[39;49m\u001b[43mevaluate\u001b[49m\u001b[43m(\u001b[49m\u001b[43minput_dict\u001b[49m\u001b[43m)\u001b[49m\n",
      "File \u001b[0;32m~/Documents/SLAC/AD/ad-lume/lume-model/lume_model/base.py:339\u001b[0m, in \u001b[0;36mLUMEBaseModel.evaluate\u001b[0;34m(self, input_dict)\u001b[0m\n\u001b[1;32m    337\u001b[0m \u001b[38;5;28;01mdef\u001b[39;00m\u001b[38;5;250m \u001b[39m\u001b[38;5;21mevaluate\u001b[39m(\u001b[38;5;28mself\u001b[39m, input_dict: \u001b[38;5;28mdict\u001b[39m[\u001b[38;5;28mstr\u001b[39m, Any]) \u001b[38;5;241m-\u001b[39m\u001b[38;5;241m>\u001b[39m \u001b[38;5;28mdict\u001b[39m[\u001b[38;5;28mstr\u001b[39m, Any]:\n\u001b[1;32m    338\u001b[0m \u001b[38;5;250m    \u001b[39m\u001b[38;5;124;03m\"\"\"Main evaluation function, child classes must implement the _evaluate method.\"\"\"\u001b[39;00m\n\u001b[0;32m--> 339\u001b[0m     validated_input_dict \u001b[38;5;241m=\u001b[39m \u001b[38;5;28;43mself\u001b[39;49m\u001b[38;5;241;43m.\u001b[39;49m\u001b[43minput_validation\u001b[49m\u001b[43m(\u001b[49m\u001b[43minput_dict\u001b[49m\u001b[43m)\u001b[49m\n\u001b[1;32m    340\u001b[0m     output_dict \u001b[38;5;241m=\u001b[39m \u001b[38;5;28mself\u001b[39m\u001b[38;5;241m.\u001b[39m_evaluate(validated_input_dict)\n\u001b[1;32m    341\u001b[0m     \u001b[38;5;28mself\u001b[39m\u001b[38;5;241m.\u001b[39moutput_validation(output_dict)\n",
      "File \u001b[0;32m~/Documents/SLAC/AD/ad-lume/lume-model/lume_model/models/torch_model.py:192\u001b[0m, in \u001b[0;36mTorchModel.input_validation\u001b[0;34m(self, input_dict)\u001b[0m\n\u001b[1;32m    190\u001b[0m     ele \u001b[38;5;241m=\u001b[39m InputDictModel(input_dict\u001b[38;5;241m=\u001b[39mele)\u001b[38;5;241m.\u001b[39minput_dict\n\u001b[1;32m    191\u001b[0m     \u001b[38;5;66;03m# validate each value based on its var class and config\u001b[39;00m\n\u001b[0;32m--> 192\u001b[0m     \u001b[38;5;28;43msuper\u001b[39;49m\u001b[43m(\u001b[49m\u001b[43m)\u001b[49m\u001b[38;5;241;43m.\u001b[39;49m\u001b[43minput_validation\u001b[49m\u001b[43m(\u001b[49m\u001b[43mele\u001b[49m\u001b[43m)\u001b[49m\n\u001b[1;32m    194\u001b[0m \u001b[38;5;66;03m# return the validated input dict for consistency w/ casting ints to floats\u001b[39;00m\n\u001b[1;32m    195\u001b[0m \u001b[38;5;28;01mif\u001b[39;00m \u001b[38;5;28many\u001b[39m([\u001b[38;5;28misinstance\u001b[39m(value, torch\u001b[38;5;241m.\u001b[39mTensor) \u001b[38;5;28;01mfor\u001b[39;00m value \u001b[38;5;129;01min\u001b[39;00m validated_input\u001b[38;5;241m.\u001b[39mvalues()]):\n",
      "File \u001b[0;32m~/Documents/SLAC/AD/ad-lume/lume-model/lume_model/base.py:356\u001b[0m, in \u001b[0;36mLUMEBaseModel.input_validation\u001b[0;34m(self, input_dict)\u001b[0m\n\u001b[1;32m    350\u001b[0m     _config \u001b[38;5;241m=\u001b[39m (\n\u001b[1;32m    351\u001b[0m         \u001b[38;5;28;01mNone\u001b[39;00m\n\u001b[1;32m    352\u001b[0m         \u001b[38;5;28;01mif\u001b[39;00m \u001b[38;5;28mself\u001b[39m\u001b[38;5;241m.\u001b[39minput_validation_config \u001b[38;5;129;01mis\u001b[39;00m \u001b[38;5;28;01mNone\u001b[39;00m\n\u001b[1;32m    353\u001b[0m         \u001b[38;5;28;01melse\u001b[39;00m \u001b[38;5;28mself\u001b[39m\u001b[38;5;241m.\u001b[39minput_validation_config\u001b[38;5;241m.\u001b[39mget(name)\n\u001b[1;32m    354\u001b[0m     )\n\u001b[1;32m    355\u001b[0m     var \u001b[38;5;241m=\u001b[39m \u001b[38;5;28mself\u001b[39m\u001b[38;5;241m.\u001b[39minput_variables[\u001b[38;5;28mself\u001b[39m\u001b[38;5;241m.\u001b[39minput_names\u001b[38;5;241m.\u001b[39mindex(name)]\n\u001b[0;32m--> 356\u001b[0m     \u001b[43mvar\u001b[49m\u001b[38;5;241;43m.\u001b[39;49m\u001b[43mvalidate_value\u001b[49m\u001b[43m(\u001b[49m\u001b[43mvalue\u001b[49m\u001b[43m,\u001b[49m\u001b[43m \u001b[49m\u001b[43mconfig\u001b[49m\u001b[38;5;241;43m=\u001b[39;49m\u001b[43m_config\u001b[49m\u001b[43m)\u001b[49m\n\u001b[1;32m    357\u001b[0m \u001b[38;5;28;01mreturn\u001b[39;00m input_dict\n",
      "File \u001b[0;32m~/Documents/SLAC/AD/ad-lume/lume-model/lume_model/variables.py:130\u001b[0m, in \u001b[0;36mScalarVariable.validate_value\u001b[0;34m(self, value, config)\u001b[0m\n\u001b[1;32m    128\u001b[0m \u001b[38;5;66;03m# optional validation\u001b[39;00m\n\u001b[1;32m    129\u001b[0m \u001b[38;5;28;01mif\u001b[39;00m config \u001b[38;5;241m!=\u001b[39m \u001b[38;5;124m\"\u001b[39m\u001b[38;5;124mnone\u001b[39m\u001b[38;5;124m\"\u001b[39m:\n\u001b[0;32m--> 130\u001b[0m     \u001b[38;5;28;43mself\u001b[39;49m\u001b[38;5;241;43m.\u001b[39;49m\u001b[43m_validate_value_is_within_range\u001b[49m\u001b[43m(\u001b[49m\u001b[43mvalue\u001b[49m\u001b[43m,\u001b[49m\u001b[43m \u001b[49m\u001b[43mconfig\u001b[49m\u001b[38;5;241;43m=\u001b[39;49m\u001b[43m_config\u001b[49m\u001b[43m)\u001b[49m\n",
      "File \u001b[0;32m~/Documents/SLAC/AD/ad-lume/lume-model/lume_model/variables.py:162\u001b[0m, in \u001b[0;36mScalarVariable._validate_value_is_within_range\u001b[0;34m(self, value, config)\u001b[0m\n\u001b[1;32m    160\u001b[0m     \u001b[38;5;28mprint\u001b[39m(\u001b[38;5;124m\"\u001b[39m\u001b[38;5;124mWarning: \u001b[39m\u001b[38;5;124m\"\u001b[39m \u001b[38;5;241m+\u001b[39m range_warning_message)\n\u001b[1;32m    161\u001b[0m \u001b[38;5;28;01melse\u001b[39;00m:\n\u001b[0;32m--> 162\u001b[0m     \u001b[38;5;28;01mraise\u001b[39;00m \u001b[38;5;167;01mValueError\u001b[39;00m(error_message)\n",
      "\u001b[0;31mValueError\u001b[0m: Value (1.2000000476837158) of 'input1' is out of valid range ([0.0,1.0])."
     ]
    }
   ],
   "source": [
    "# strict range checking, raises ValueError\n",
    "example_model.input_validation_config = {\"input1\": \"error\", \"input2\": \"warn\"}\n",
    "\n",
    "input_dict = {\"input2\": torch.tensor([0.5])}\n",
    "example_model.evaluate(input_dict)"
   ]
  },
  {
   "cell_type": "code",
   "execution_count": 33,
   "id": "f03bcfc3-4c2f-486a-a006-be3300ef8c75",
   "metadata": {},
   "outputs": [],
   "source": [
    "example_model.input_variables[0].default_value = 0.1"
   ]
  },
  {
   "cell_type": "markdown",
   "id": "b54f6464-ac0c-498d-a0fb-55d0430a3a0c",
   "metadata": {},
   "source": [
    "## Constant variables and their validation"
   ]
  },
  {
   "cell_type": "markdown",
   "id": "a173bb41-e031-4e92-b4b1-7b61da1c110f",
   "metadata": {},
   "source": [
    "Constant variables are defined by setting the ScalarVariable optional class attribute `is_constant` to True. These variables will always have their value equal to the provided default value."
   ]
  },
  {
   "cell_type": "code",
   "execution_count": 34,
   "id": "8085e5d4-baed-4cbc-b39b-ed49250e6659",
   "metadata": {},
   "outputs": [],
   "source": [
    "example_model.input_variables[0].is_constant = True"
   ]
  },
  {
   "cell_type": "code",
   "execution_count": 35,
   "id": "3b5eceb4-1bf9-4244-a195-8f75a6a8ae7c",
   "metadata": {},
   "outputs": [
    {
     "data": {
      "text/plain": [
       "[ScalarVariable(name='input1', default_value=0.1, is_constant=True, value_range=(0.0, 1.0), value_range_tolerance=1e-08, unit=None),\n",
       " ScalarVariable(name='input2', default_value=0.2, is_constant=False, value_range=(0.0, 1.0), value_range_tolerance=1e-08, unit=None)]"
      ]
     },
     "execution_count": 35,
     "metadata": {},
     "output_type": "execute_result"
    }
   ],
   "source": [
    "example_model.input_variables"
   ]
  },
  {
   "cell_type": "code",
   "execution_count": 36,
   "id": "f2dcc4bc-9772-4748-ae7f-e3fa61eb17a5",
   "metadata": {},
   "outputs": [
    {
     "data": {
      "text/plain": [
       "{'input1': <ConfigEnum.ERROR: 'error'>, 'input2': <ConfigEnum.WARN: 'warn'>}"
      ]
     },
     "execution_count": 36,
     "metadata": {},
     "output_type": "execute_result"
    }
   ],
   "source": [
    "example_model.input_validation_config"
   ]
  },
  {
   "cell_type": "code",
   "execution_count": 37,
   "id": "29dc684d-2322-4424-b07b-7fcacc1873d7",
   "metadata": {},
   "outputs": [
    {
     "ename": "ValueError",
     "evalue": "Expected value to be (0.1) for constant variable (input1), but received (0.5) ([0.0,1.0]).",
     "output_type": "error",
     "traceback": [
      "\u001b[0;31m---------------------------------------------------------------------------\u001b[0m",
      "\u001b[0;31mValueError\u001b[0m                                Traceback (most recent call last)",
      "Cell \u001b[0;32mIn[37], line 3\u001b[0m\n\u001b[1;32m      1\u001b[0m \u001b[38;5;66;03m# constant input variable set to other than the default value, raises ValueError\u001b[39;00m\n\u001b[1;32m      2\u001b[0m input_dict \u001b[38;5;241m=\u001b[39m {\u001b[38;5;124m\"\u001b[39m\u001b[38;5;124minput1\u001b[39m\u001b[38;5;124m\"\u001b[39m: torch\u001b[38;5;241m.\u001b[39mtensor([\u001b[38;5;241m0.5\u001b[39m])}\n\u001b[0;32m----> 3\u001b[0m \u001b[43mexample_model\u001b[49m\u001b[38;5;241;43m.\u001b[39;49m\u001b[43mevaluate\u001b[49m\u001b[43m(\u001b[49m\u001b[43minput_dict\u001b[49m\u001b[43m)\u001b[49m\n",
      "File \u001b[0;32m~/Documents/SLAC/AD/ad-lume/lume-model/lume_model/base.py:339\u001b[0m, in \u001b[0;36mLUMEBaseModel.evaluate\u001b[0;34m(self, input_dict)\u001b[0m\n\u001b[1;32m    337\u001b[0m \u001b[38;5;28;01mdef\u001b[39;00m\u001b[38;5;250m \u001b[39m\u001b[38;5;21mevaluate\u001b[39m(\u001b[38;5;28mself\u001b[39m, input_dict: \u001b[38;5;28mdict\u001b[39m[\u001b[38;5;28mstr\u001b[39m, Any]) \u001b[38;5;241m-\u001b[39m\u001b[38;5;241m>\u001b[39m \u001b[38;5;28mdict\u001b[39m[\u001b[38;5;28mstr\u001b[39m, Any]:\n\u001b[1;32m    338\u001b[0m \u001b[38;5;250m    \u001b[39m\u001b[38;5;124;03m\"\"\"Main evaluation function, child classes must implement the _evaluate method.\"\"\"\u001b[39;00m\n\u001b[0;32m--> 339\u001b[0m     validated_input_dict \u001b[38;5;241m=\u001b[39m \u001b[38;5;28;43mself\u001b[39;49m\u001b[38;5;241;43m.\u001b[39;49m\u001b[43minput_validation\u001b[49m\u001b[43m(\u001b[49m\u001b[43minput_dict\u001b[49m\u001b[43m)\u001b[49m\n\u001b[1;32m    340\u001b[0m     output_dict \u001b[38;5;241m=\u001b[39m \u001b[38;5;28mself\u001b[39m\u001b[38;5;241m.\u001b[39m_evaluate(validated_input_dict)\n\u001b[1;32m    341\u001b[0m     \u001b[38;5;28mself\u001b[39m\u001b[38;5;241m.\u001b[39moutput_validation(output_dict)\n",
      "File \u001b[0;32m~/Documents/SLAC/AD/ad-lume/lume-model/lume_model/models/torch_model.py:192\u001b[0m, in \u001b[0;36mTorchModel.input_validation\u001b[0;34m(self, input_dict)\u001b[0m\n\u001b[1;32m    190\u001b[0m     ele \u001b[38;5;241m=\u001b[39m InputDictModel(input_dict\u001b[38;5;241m=\u001b[39mele)\u001b[38;5;241m.\u001b[39minput_dict\n\u001b[1;32m    191\u001b[0m     \u001b[38;5;66;03m# validate each value based on its var class and config\u001b[39;00m\n\u001b[0;32m--> 192\u001b[0m     \u001b[38;5;28;43msuper\u001b[39;49m\u001b[43m(\u001b[49m\u001b[43m)\u001b[49m\u001b[38;5;241;43m.\u001b[39;49m\u001b[43minput_validation\u001b[49m\u001b[43m(\u001b[49m\u001b[43mele\u001b[49m\u001b[43m)\u001b[49m\n\u001b[1;32m    194\u001b[0m \u001b[38;5;66;03m# return the validated input dict for consistency w/ casting ints to floats\u001b[39;00m\n\u001b[1;32m    195\u001b[0m \u001b[38;5;28;01mif\u001b[39;00m \u001b[38;5;28many\u001b[39m([\u001b[38;5;28misinstance\u001b[39m(value, torch\u001b[38;5;241m.\u001b[39mTensor) \u001b[38;5;28;01mfor\u001b[39;00m value \u001b[38;5;129;01min\u001b[39;00m validated_input\u001b[38;5;241m.\u001b[39mvalues()]):\n",
      "File \u001b[0;32m~/Documents/SLAC/AD/ad-lume/lume-model/lume_model/base.py:356\u001b[0m, in \u001b[0;36mLUMEBaseModel.input_validation\u001b[0;34m(self, input_dict)\u001b[0m\n\u001b[1;32m    350\u001b[0m     _config \u001b[38;5;241m=\u001b[39m (\n\u001b[1;32m    351\u001b[0m         \u001b[38;5;28;01mNone\u001b[39;00m\n\u001b[1;32m    352\u001b[0m         \u001b[38;5;28;01mif\u001b[39;00m \u001b[38;5;28mself\u001b[39m\u001b[38;5;241m.\u001b[39minput_validation_config \u001b[38;5;129;01mis\u001b[39;00m \u001b[38;5;28;01mNone\u001b[39;00m\n\u001b[1;32m    353\u001b[0m         \u001b[38;5;28;01melse\u001b[39;00m \u001b[38;5;28mself\u001b[39m\u001b[38;5;241m.\u001b[39minput_validation_config\u001b[38;5;241m.\u001b[39mget(name)\n\u001b[1;32m    354\u001b[0m     )\n\u001b[1;32m    355\u001b[0m     var \u001b[38;5;241m=\u001b[39m \u001b[38;5;28mself\u001b[39m\u001b[38;5;241m.\u001b[39minput_variables[\u001b[38;5;28mself\u001b[39m\u001b[38;5;241m.\u001b[39minput_names\u001b[38;5;241m.\u001b[39mindex(name)]\n\u001b[0;32m--> 356\u001b[0m     \u001b[43mvar\u001b[49m\u001b[38;5;241;43m.\u001b[39;49m\u001b[43mvalidate_value\u001b[49m\u001b[43m(\u001b[49m\u001b[43mvalue\u001b[49m\u001b[43m,\u001b[49m\u001b[43m \u001b[49m\u001b[43mconfig\u001b[49m\u001b[38;5;241;43m=\u001b[39;49m\u001b[43m_config\u001b[49m\u001b[43m)\u001b[49m\n\u001b[1;32m    357\u001b[0m \u001b[38;5;28;01mreturn\u001b[39;00m input_dict\n",
      "File \u001b[0;32m~/Documents/SLAC/AD/ad-lume/lume-model/lume_model/variables.py:130\u001b[0m, in \u001b[0;36mScalarVariable.validate_value\u001b[0;34m(self, value, config)\u001b[0m\n\u001b[1;32m    128\u001b[0m \u001b[38;5;66;03m# optional validation\u001b[39;00m\n\u001b[1;32m    129\u001b[0m \u001b[38;5;28;01mif\u001b[39;00m config \u001b[38;5;241m!=\u001b[39m \u001b[38;5;124m\"\u001b[39m\u001b[38;5;124mnone\u001b[39m\u001b[38;5;124m\"\u001b[39m:\n\u001b[0;32m--> 130\u001b[0m     \u001b[38;5;28;43mself\u001b[39;49m\u001b[38;5;241;43m.\u001b[39;49m\u001b[43m_validate_value_is_within_range\u001b[49m\u001b[43m(\u001b[49m\u001b[43mvalue\u001b[49m\u001b[43m,\u001b[49m\u001b[43m \u001b[49m\u001b[43mconfig\u001b[49m\u001b[38;5;241;43m=\u001b[39;49m\u001b[43m_config\u001b[49m\u001b[43m)\u001b[49m\n",
      "File \u001b[0;32m~/Documents/SLAC/AD/ad-lume/lume-model/lume_model/variables.py:162\u001b[0m, in \u001b[0;36mScalarVariable._validate_value_is_within_range\u001b[0;34m(self, value, config)\u001b[0m\n\u001b[1;32m    160\u001b[0m     \u001b[38;5;28mprint\u001b[39m(\u001b[38;5;124m\"\u001b[39m\u001b[38;5;124mWarning: \u001b[39m\u001b[38;5;124m\"\u001b[39m \u001b[38;5;241m+\u001b[39m range_warning_message)\n\u001b[1;32m    161\u001b[0m \u001b[38;5;28;01melse\u001b[39;00m:\n\u001b[0;32m--> 162\u001b[0m     \u001b[38;5;28;01mraise\u001b[39;00m \u001b[38;5;167;01mValueError\u001b[39;00m(error_message)\n",
      "\u001b[0;31mValueError\u001b[0m: Expected value to be (0.1) for constant variable (input1), but received (0.5) ([0.0,1.0])."
     ]
    }
   ],
   "source": [
    "# constant input variable set to other than the default value, raises ValueError\n",
    "input_dict = {\"input1\": torch.tensor([0.5])}\n",
    "example_model.evaluate(input_dict)"
   ]
  },
  {
   "cell_type": "code",
   "execution_count": null,
   "id": "3939795c-7eff-4570-8175-6fc3066e87ef",
   "metadata": {},
   "outputs": [],
   "source": []
  },
  {
   "cell_type": "code",
   "execution_count": null,
   "id": "9e27249c-8993-455d-92bd-c169998cdbf6",
   "metadata": {},
   "outputs": [],
   "source": []
  }
 ],
 "metadata": {
  "kernelspec": {
   "display_name": "Python 3 (ipykernel)",
   "language": "python",
   "name": "python3"
  },
  "language_info": {
   "codemirror_mode": {
    "name": "ipython",
    "version": 3
   },
   "file_extension": ".py",
   "mimetype": "text/x-python",
   "name": "python",
   "nbconvert_exporter": "python",
   "pygments_lexer": "ipython3",
   "version": "3.12.2"
  }
 },
 "nbformat": 4,
 "nbformat_minor": 5
}
