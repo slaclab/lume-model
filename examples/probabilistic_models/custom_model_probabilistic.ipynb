{
 "cells": [
  {
   "cell_type": "markdown",
   "id": "235c92cd-cc05-42b8-a516-1185eeac5f0c",
   "metadata": {},
   "source": [
    "# Creating a Custom LUME-model for probabilistic models\n"
   ]
  },
  {
   "cell_type": "code",
   "execution_count": 1,
   "id": "56725817-2b21-4bea-98b0-151dea959f77",
   "metadata": {},
   "outputs": [],
   "source": [
    "from torch.distributions.normal import Normal\n",
    "import torch\n",
    "from lume_model.models.prob_model_base import ProbModelBaseModel\n",
    "from lume_model.variables import ScalarVariable, DistributionVariable"
   ]
  },
  {
   "cell_type": "markdown",
   "id": "79c62b18-7dc1-44ca-b578-4dea5cc4a4b4",
   "metadata": {},
   "source": [
    "## Create a model that returns a list of predictions"
   ]
  },
  {
   "cell_type": "code",
   "execution_count": 2,
   "id": "f96d9863-269c-49d8-9671-cc73a783bcbc",
   "metadata": {},
   "outputs": [],
   "source": [
    "class ExampleModel(ProbModelBaseModel):\n",
    "    \"\"\"Model returns a list of predictions for each output\"\"\"\n",
    "\n",
    "    def _get_predictions(self, input_dict):\n",
    "        \"\"\"\n",
    "        This method implements the required abstract method for this class.\n",
    "        It takes the input_dict and returns a dict of output names to distributions.\n",
    "        \"\"\"\n",
    "        # Just generate random output here for this example\n",
    "        # but typically this is where you would adjust the input if needed and\n",
    "        # call your model on the input\n",
    "        output_dict = {\n",
    "            \"output1\": torch.rand(5),\n",
    "            \"output2\": torch.rand(10),\n",
    "        }\n",
    "        return self._create_output_dict(output_dict)\n",
    "\n",
    "    def _create_output_dict(self, output):\n",
    "        \"\"\"This method is not required by the abstract class but typically\n",
    "        needed to create a distribution type output for each output\n",
    "        name from the list of predictions that the model returns.\n",
    "        \"\"\"\n",
    "        output_dict = {}\n",
    "        for k, v in output.items():\n",
    "            output_dict[k] = Normal(v.mean(axis=0), torch.sqrt(v.var(axis=0)))\n",
    "        return output_dict"
   ]
  },
  {
   "cell_type": "markdown",
   "id": "868fff4d-1f46-48e2-8bd0-c9d831df79e6",
   "metadata": {},
   "source": [
    "### Model Instantiation and Execution\n",
    "Instantiation requires specification of the input and output variables of the model."
   ]
  },
  {
   "cell_type": "code",
   "execution_count": 3,
   "id": "97946e64-062d-47d4-8d0c-d7e02a335a56",
   "metadata": {},
   "outputs": [],
   "source": [
    "input_variables = [\n",
    "    ScalarVariable(name=\"input1\", default_value=0.1),\n",
    "    ScalarVariable(name=\"input2\", default_value=0.2, value_range=[0.0, 1.0]),\n",
    "]\n",
    "output_variables = [\n",
    "    DistributionVariable(name=\"output1\", distribution_type=\"Normal\"),\n",
    "    DistributionVariable(name=\"output2\", distribution_type=\"Normal\"),\n",
    "]\n",
    "\n",
    "m = ExampleModel(input_variables=input_variables, output_variables=output_variables)"
   ]
  },
  {
   "cell_type": "code",
   "execution_count": 4,
   "id": "50aae4be-0d6e-456f-83e8-3a84d6d78f84",
   "metadata": {},
   "outputs": [],
   "source": [
    "input_dict = {\n",
    "    \"input1\": 0.3,\n",
    "    \"input2\": 0.6,\n",
    "}\n",
    "out = m.evaluate(input_dict)"
   ]
  },
  {
   "cell_type": "code",
   "execution_count": 5,
   "id": "9a74c70a-4d9a-443f-820d-69d111e574ed",
   "metadata": {},
   "outputs": [
    {
     "data": {
      "text/plain": [
       "{'output1': Normal(loc: 0.5138312578201294, scale: 0.3903539776802063),\n",
       " 'output2': Normal(loc: 0.43345189094543457, scale: 0.3701303005218506)}"
      ]
     },
     "execution_count": 5,
     "metadata": {},
     "output_type": "execute_result"
    }
   ],
   "source": [
    "out"
   ]
  },
  {
   "cell_type": "code",
   "execution_count": 6,
   "id": "301aa223-f53f-498f-8b31-ed1008594f87",
   "metadata": {},
   "outputs": [
    {
     "data": {
      "text/plain": [
       "(tensor(0.5138), tensor(0.1524))"
      ]
     },
     "execution_count": 6,
     "metadata": {},
     "output_type": "execute_result"
    }
   ],
   "source": [
    "out[\"output1\"].mean, out[\"output1\"].variance"
   ]
  },
  {
   "cell_type": "code",
   "execution_count": null,
   "id": "35ea12da-d0c6-49cc-8a00-2b096fc7248b",
   "metadata": {},
   "outputs": [],
   "source": []
  },
  {
   "cell_type": "code",
   "execution_count": null,
   "id": "63d56fd9-8c25-4371-921b-968773376203",
   "metadata": {},
   "outputs": [],
   "source": []
  }
 ],
 "metadata": {
  "kernelspec": {
   "display_name": "Python 3 (ipykernel)",
   "language": "python",
   "name": "python3"
  },
  "language_info": {
   "codemirror_mode": {
    "name": "ipython",
    "version": 3
   },
   "file_extension": ".py",
   "mimetype": "text/x-python",
   "name": "python",
   "nbconvert_exporter": "python",
   "pygments_lexer": "ipython3",
   "version": "3.12.2"
  }
 },
 "nbformat": 4,
 "nbformat_minor": 5
}
