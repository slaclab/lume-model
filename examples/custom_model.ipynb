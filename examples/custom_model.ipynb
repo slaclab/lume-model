{
 "cells": [
  {
   "cell_type": "markdown",
   "id": "235c92cd-cc05-42b8-a516-1185eeac5f0c",
   "metadata": {},
   "source": [
    "# Creating a Custom LUME-model\n",
    "Custom models that are compatible with LUME tools can be created by inhereting from the `LUMEBaseModel`."
   ]
  },
  {
   "cell_type": "code",
   "execution_count": 1,
   "id": "56725817-2b21-4bea-98b0-151dea959f77",
   "metadata": {},
   "outputs": [],
   "source": [
    "from lume_model.base import LUMEBaseModel\n",
    "from lume_model.variables import ScalarVariable"
   ]
  },
  {
   "cell_type": "markdown",
   "id": "79c62b18-7dc1-44ca-b578-4dea5cc4a4b4",
   "metadata": {},
   "source": [
    "## Model Definition\n",
    "The minimum requirement for creating a custom LUME-model is to implement the abstract `evaluate` method inherited from `LUMEBaseModel`. Here, we simply return the squared input."
   ]
  },
  {
   "cell_type": "code",
   "execution_count": 2,
   "id": "f96d9863-269c-49d8-9671-cc73a783bcbc",
   "metadata": {},
   "outputs": [],
   "source": [
    "class ExampleModel(LUMEBaseModel):\n",
    "    def _evaluate(self, input_dict):\n",
    "        output_dict = {\n",
    "            \"output1\": input_dict[self.input_variables[0].name] ** 2,\n",
    "            \"output2\": input_dict[self.input_variables[1].name] ** 2,\n",
    "        }\n",
    "        return output_dict"
   ]
  },
  {
   "cell_type": "markdown",
   "id": "868fff4d-1f46-48e2-8bd0-c9d831df79e6",
   "metadata": {},
   "source": [
    "## Model Instantiation and Execution\n",
    "Instantiation requires specification of the input and output variables of the model."
   ]
  },
  {
   "cell_type": "code",
   "execution_count": 4,
   "id": "97946e64-062d-47d4-8d0c-d7e02a335a56",
   "metadata": {},
   "outputs": [],
   "source": [
    "input_variables = [\n",
    "    ScalarVariable(name=\"input1\", default_value=0.1),\n",
    "    ScalarVariable(name=\"input2\", default_value=0.2, value_range=[0.0, 1.0]),\n",
    "]\n",
    "output_variables = [\n",
    "    ScalarVariable(name=\"output1\"),\n",
    "    ScalarVariable(name=\"output2\"),\n",
    "]\n",
    "\n",
    "m = ExampleModel(input_variables=input_variables, output_variables=output_variables)"
   ]
  },
  {
   "cell_type": "code",
   "execution_count": 5,
   "id": "50aae4be-0d6e-456f-83e8-3a84d6d78f84",
   "metadata": {},
   "outputs": [
    {
     "data": {
      "text/plain": [
       "{'output1': 0.09, 'output2': 0.36}"
      ]
     },
     "execution_count": 5,
     "metadata": {},
     "output_type": "execute_result"
    }
   ],
   "source": [
    "input_dict = {\n",
    "    \"input1\": 0.3,\n",
    "    \"input2\": 0.6,\n",
    "}\n",
    "m.evaluate(input_dict)"
   ]
  },
  {
   "cell_type": "markdown",
   "id": "ac3f47b9-b316-4baa-b747-dbc57ab921e5",
   "metadata": {},
   "source": [
    "# Save to YAML"
   ]
  },
  {
   "cell_type": "code",
   "execution_count": 7,
   "id": "da644ee0-9bac-4343-81bf-41b2d7571283",
   "metadata": {},
   "outputs": [],
   "source": [
    "m.dump(\"example_model.yml\")"
   ]
  },
  {
   "cell_type": "markdown",
   "id": "01e95117-a2f1-4cd6-93ed-70946ee8e8a4",
   "metadata": {},
   "source": [
    "# Load from YAML"
   ]
  },
  {
   "cell_type": "code",
   "execution_count": 14,
   "id": "6b9eb663-f8b1-449e-90cc-ebde0f311d02",
   "metadata": {},
   "outputs": [],
   "source": [
    "m = ExampleModel(\"example_model.yml\")"
   ]
  },
  {
   "cell_type": "code",
   "execution_count": 15,
   "id": "d49d8368-4b68-4bfb-868d-a61164d65724",
   "metadata": {},
   "outputs": [
    {
     "data": {
      "text/plain": [
       "ExampleModel(input_variables=[ScalarVariable(name='input1', default_value=0.1, value_range=(-inf, inf), is_constant=False, unit=None), ScalarVariable(name='input2', default_value=0.2, value_range=(0.0, 1.0), is_constant=False, unit=None)], output_variables=[ScalarVariable(name='output1', default_value=None, value_range=(-inf, inf), is_constant=False, unit=None), ScalarVariable(name='output2', default_value=None, value_range=(-inf, inf), is_constant=False, unit=None)], input_validation_config=None, output_validation_config=None)"
      ]
     },
     "execution_count": 15,
     "metadata": {},
     "output_type": "execute_result"
    }
   ],
   "source": [
    "m"
   ]
  },
  {
   "cell_type": "code",
   "execution_count": 16,
   "id": "92f1e6e1-53c6-4195-8dd7-00163ec13e73",
   "metadata": {},
   "outputs": [
    {
     "data": {
      "text/plain": [
       "{'output1': 0.09, 'output2': 0.36}"
      ]
     },
     "execution_count": 16,
     "metadata": {},
     "output_type": "execute_result"
    }
   ],
   "source": [
    "input_dict = {\n",
    "    \"input1\": 0.3,\n",
    "    \"input2\": 0.6,\n",
    "}\n",
    "m.evaluate(input_dict)"
   ]
  },
  {
   "cell_type": "code",
   "execution_count": 17,
   "id": "33d97167-6a84-42f7-a40a-1a0169dafc5d",
   "metadata": {},
   "outputs": [
    {
     "name": "stdout",
     "output_type": "stream",
     "text": [
      "{\"model_class\": \"ExampleModel\", \"input_variables\": {\"input1\": {\"variable_class\": \"ScalarVariable\", \"default_value\": 0.1, \"value_range\": [-Infinity, Infinity], \"is_constant\": false}, \"input2\": {\"variable_class\": \"ScalarVariable\", \"default_value\": 0.2, \"value_range\": [0.0, 1.0], \"is_constant\": false}}, \"output_variables\": {\"output1\": {\"variable_class\": \"ScalarVariable\", \"value_range\": [-Infinity, Infinity], \"is_constant\": false}, \"output2\": {\"variable_class\": \"ScalarVariable\", \"value_range\": [-Infinity, Infinity], \"is_constant\": false}}, \"input_validation_config\": null, \"output_validation_config\": null}\n"
     ]
    }
   ],
   "source": [
    "print(m.json())"
   ]
  },
  {
   "cell_type": "code",
   "execution_count": 18,
   "id": "b07f8b91-d4a2-430f-ae24-6aea581fad96",
   "metadata": {},
   "outputs": [
    {
     "name": "stdout",
     "output_type": "stream",
     "text": [
      "{'model_class': 'ExampleModel', 'input_variables': [{'variable_class': 'ScalarVariable', 'name': 'input1', 'default_value': 0.1, 'value_range': (-inf, inf), 'is_constant': False, 'unit': None}, {'variable_class': 'ScalarVariable', 'name': 'input2', 'default_value': 0.2, 'value_range': (0.0, 1.0), 'is_constant': False, 'unit': None}], 'output_variables': [{'variable_class': 'ScalarVariable', 'name': 'output1', 'default_value': None, 'value_range': (-inf, inf), 'is_constant': False, 'unit': None}, {'variable_class': 'ScalarVariable', 'name': 'output2', 'default_value': None, 'value_range': (-inf, inf), 'is_constant': False, 'unit': None}], 'input_validation_config': None, 'output_validation_config': None}\n"
     ]
    }
   ],
   "source": [
    "print(m.dict())"
   ]
  },
  {
   "cell_type": "code",
   "execution_count": null,
   "id": "a35c6fe3-d61b-42ed-b835-f79669ce1508",
   "metadata": {},
   "outputs": [],
   "source": []
  }
 ],
 "metadata": {
  "kernelspec": {
   "display_name": "Python 3 (ipykernel)",
   "language": "python",
   "name": "python3"
  },
  "language_info": {
   "codemirror_mode": {
    "name": "ipython",
    "version": 3
   },
   "file_extension": ".py",
   "mimetype": "text/x-python",
   "name": "python",
   "nbconvert_exporter": "python",
   "pygments_lexer": "ipython3",
   "version": "3.9.20"
  }
 },
 "nbformat": 4,
 "nbformat_minor": 5
}
